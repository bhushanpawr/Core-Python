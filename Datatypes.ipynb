{
 "cells": [
  {
   "cell_type": "markdown",
   "id": "84bd0a68",
   "metadata": {},
   "source": [
    "# <font color = 'maroon'> Jupyter Shortcuts </font>"
   ]
  },
  {
   "cell_type": "markdown",
   "id": "e9ffc594",
   "metadata": {},
   "source": [
    "+ esc + b - Create a cell below the current cell\n",
    "+ esc + a - Create a cell above the current cell\n",
    "+ esc + x - Delete the current cell\n",
    "+ esc + m - Convert current cell to markdown\n",
    "+ esc + y - Convert current cell to code cell"
   ]
  },
  {
   "cell_type": "markdown",
   "id": "75dc7382",
   "metadata": {},
   "source": [
    "# Datatypes in Python"
   ]
  },
  {
   "cell_type": "code",
   "execution_count": 2,
   "id": "9637e52f",
   "metadata": {},
   "outputs": [],
   "source": [
    "# Integer Type\n",
    "x = 10"
   ]
  },
  {
   "cell_type": "code",
   "execution_count": 4,
   "id": "1891b9c1",
   "metadata": {},
   "outputs": [
    {
     "data": {
      "text/plain": [
       "10"
      ]
     },
     "execution_count": 4,
     "metadata": {},
     "output_type": "execute_result"
    }
   ],
   "source": [
    "x"
   ]
  },
  {
   "cell_type": "code",
   "execution_count": 5,
   "id": "aa1490c7",
   "metadata": {},
   "outputs": [
    {
     "data": {
      "text/plain": [
       "int"
      ]
     },
     "execution_count": 5,
     "metadata": {},
     "output_type": "execute_result"
    }
   ],
   "source": [
    "type(x)"
   ]
  },
  {
   "cell_type": "code",
   "execution_count": 6,
   "id": "09187d00",
   "metadata": {},
   "outputs": [],
   "source": [
    "# Float\n",
    "y = 10.56"
   ]
  },
  {
   "cell_type": "code",
   "execution_count": 7,
   "id": "d89fca44",
   "metadata": {},
   "outputs": [
    {
     "data": {
      "text/plain": [
       "10.56"
      ]
     },
     "execution_count": 7,
     "metadata": {},
     "output_type": "execute_result"
    }
   ],
   "source": [
    "y"
   ]
  },
  {
   "cell_type": "code",
   "execution_count": 8,
   "id": "02f37ad7",
   "metadata": {},
   "outputs": [
    {
     "data": {
      "text/plain": [
       "float"
      ]
     },
     "execution_count": 8,
     "metadata": {},
     "output_type": "execute_result"
    }
   ],
   "source": [
    "type(y)"
   ]
  },
  {
   "cell_type": "code",
   "execution_count": 9,
   "id": "05241a04",
   "metadata": {},
   "outputs": [],
   "source": [
    "z = True"
   ]
  },
  {
   "cell_type": "code",
   "execution_count": 10,
   "id": "e5345a35",
   "metadata": {},
   "outputs": [
    {
     "data": {
      "text/plain": [
       "True"
      ]
     },
     "execution_count": 10,
     "metadata": {},
     "output_type": "execute_result"
    }
   ],
   "source": [
    "z"
   ]
  },
  {
   "cell_type": "code",
   "execution_count": 11,
   "id": "0187993a",
   "metadata": {},
   "outputs": [
    {
     "data": {
      "text/plain": [
       "bool"
      ]
     },
     "execution_count": 11,
     "metadata": {},
     "output_type": "execute_result"
    }
   ],
   "source": [
    "type(z)"
   ]
  },
  {
   "cell_type": "markdown",
   "id": "a4010232",
   "metadata": {},
   "source": [
    "## Dynamic Typing"
   ]
  },
  {
   "cell_type": "code",
   "execution_count": 12,
   "id": "29faf16c",
   "metadata": {},
   "outputs": [
    {
     "data": {
      "text/plain": [
       "int"
      ]
     },
     "execution_count": 12,
     "metadata": {},
     "output_type": "execute_result"
    }
   ],
   "source": [
    "x = 10\n",
    "type(x)"
   ]
  },
  {
   "cell_type": "code",
   "execution_count": 13,
   "id": "480b3ca0",
   "metadata": {},
   "outputs": [
    {
     "data": {
      "text/plain": [
       "float"
      ]
     },
     "execution_count": 13,
     "metadata": {},
     "output_type": "execute_result"
    }
   ],
   "source": [
    "x = 6.57\n",
    "type(x)"
   ]
  },
  {
   "cell_type": "code",
   "execution_count": 14,
   "id": "4114e2d5",
   "metadata": {},
   "outputs": [
    {
     "data": {
      "text/plain": [
       "bool"
      ]
     },
     "execution_count": 14,
     "metadata": {},
     "output_type": "execute_result"
    }
   ],
   "source": [
    "x = True\n",
    "type(x)"
   ]
  },
  {
   "cell_type": "markdown",
   "id": "74687fb1",
   "metadata": {},
   "source": [
    "## Arithmetic Operations"
   ]
  },
  {
   "cell_type": "code",
   "execution_count": 15,
   "id": "87be7f29",
   "metadata": {},
   "outputs": [],
   "source": [
    "x = 9\n",
    "y = 4"
   ]
  },
  {
   "cell_type": "code",
   "execution_count": 16,
   "id": "7e9d0a4a",
   "metadata": {},
   "outputs": [
    {
     "data": {
      "text/plain": [
       "13"
      ]
     },
     "execution_count": 16,
     "metadata": {},
     "output_type": "execute_result"
    }
   ],
   "source": [
    "x + y"
   ]
  },
  {
   "cell_type": "code",
   "execution_count": 17,
   "id": "787547fd",
   "metadata": {},
   "outputs": [
    {
     "data": {
      "text/plain": [
       "5"
      ]
     },
     "execution_count": 17,
     "metadata": {},
     "output_type": "execute_result"
    }
   ],
   "source": [
    "x - y"
   ]
  },
  {
   "cell_type": "code",
   "execution_count": 18,
   "id": "9af919cc",
   "metadata": {},
   "outputs": [
    {
     "data": {
      "text/plain": [
       "36"
      ]
     },
     "execution_count": 18,
     "metadata": {},
     "output_type": "execute_result"
    }
   ],
   "source": [
    "x * y"
   ]
  },
  {
   "cell_type": "code",
   "execution_count": 19,
   "id": "6ade1224",
   "metadata": {},
   "outputs": [
    {
     "data": {
      "text/plain": [
       "2.25"
      ]
     },
     "execution_count": 19,
     "metadata": {},
     "output_type": "execute_result"
    }
   ],
   "source": [
    "x / y "
   ]
  },
  {
   "cell_type": "code",
   "execution_count": 20,
   "id": "7dc9b2c9",
   "metadata": {},
   "outputs": [
    {
     "data": {
      "text/plain": [
       "2"
      ]
     },
     "execution_count": 20,
     "metadata": {},
     "output_type": "execute_result"
    }
   ],
   "source": [
    "x // y"
   ]
  },
  {
   "cell_type": "code",
   "execution_count": 21,
   "id": "b5005eb4",
   "metadata": {},
   "outputs": [
    {
     "data": {
      "text/plain": [
       "1"
      ]
     },
     "execution_count": 21,
     "metadata": {},
     "output_type": "execute_result"
    }
   ],
   "source": [
    "x % y"
   ]
  },
  {
   "cell_type": "code",
   "execution_count": 22,
   "id": "4fbdad16",
   "metadata": {},
   "outputs": [],
   "source": [
    "x = -9\n",
    "y = 4"
   ]
  },
  {
   "cell_type": "code",
   "execution_count": 23,
   "id": "e412cf1d",
   "metadata": {},
   "outputs": [
    {
     "data": {
      "text/plain": [
       "-2.25"
      ]
     },
     "execution_count": 23,
     "metadata": {},
     "output_type": "execute_result"
    }
   ],
   "source": [
    "x / y"
   ]
  },
  {
   "cell_type": "code",
   "execution_count": 24,
   "id": "803f3dac",
   "metadata": {},
   "outputs": [
    {
     "data": {
      "text/plain": [
       "-3"
      ]
     },
     "execution_count": 24,
     "metadata": {},
     "output_type": "execute_result"
    }
   ],
   "source": [
    " x // y"
   ]
  },
  {
   "cell_type": "markdown",
   "id": "5d0fa901",
   "metadata": {},
   "source": [
    "## Logical Operations"
   ]
  },
  {
   "cell_type": "code",
   "execution_count": 25,
   "id": "c2eaa86d",
   "metadata": {},
   "outputs": [],
   "source": [
    "x = True\n",
    "y = False"
   ]
  },
  {
   "cell_type": "code",
   "execution_count": 26,
   "id": "7b75e4bc",
   "metadata": {},
   "outputs": [
    {
     "data": {
      "text/plain": [
       "False"
      ]
     },
     "execution_count": 26,
     "metadata": {},
     "output_type": "execute_result"
    }
   ],
   "source": [
    "x and y"
   ]
  },
  {
   "cell_type": "code",
   "execution_count": 27,
   "id": "de08ede1",
   "metadata": {},
   "outputs": [
    {
     "data": {
      "text/plain": [
       "True"
      ]
     },
     "execution_count": 27,
     "metadata": {},
     "output_type": "execute_result"
    }
   ],
   "source": [
    "x or y"
   ]
  },
  {
   "cell_type": "code",
   "execution_count": 28,
   "id": "fb60d920",
   "metadata": {},
   "outputs": [],
   "source": [
    "x = 10 \n",
    "y = 5"
   ]
  },
  {
   "cell_type": "code",
   "execution_count": 29,
   "id": "7d4ac778",
   "metadata": {},
   "outputs": [
    {
     "data": {
      "text/plain": [
       "True"
      ]
     },
     "execution_count": 29,
     "metadata": {},
     "output_type": "execute_result"
    }
   ],
   "source": [
    "x > 4 and y > 4"
   ]
  },
  {
   "cell_type": "markdown",
   "id": "62eb8157",
   "metadata": {},
   "source": [
    "# Collections"
   ]
  },
  {
   "cell_type": "markdown",
   "id": "232ab3c5",
   "metadata": {},
   "source": [
    "## Sequence"
   ]
  },
  {
   "cell_type": "markdown",
   "id": "9edd9262",
   "metadata": {},
   "source": [
    "#### a. List"
   ]
  },
  {
   "cell_type": "code",
   "execution_count": 30,
   "id": "1cebbf02",
   "metadata": {},
   "outputs": [],
   "source": [
    "marks = []"
   ]
  },
  {
   "cell_type": "code",
   "execution_count": 31,
   "id": "3e6b17e6",
   "metadata": {},
   "outputs": [
    {
     "data": {
      "text/plain": [
       "list"
      ]
     },
     "execution_count": 31,
     "metadata": {},
     "output_type": "execute_result"
    }
   ],
   "source": [
    "type(marks)"
   ]
  },
  {
   "cell_type": "code",
   "execution_count": 32,
   "id": "35a97a4e",
   "metadata": {},
   "outputs": [
    {
     "data": {
      "text/plain": [
       "[76, 58, 98, 45, 64]"
      ]
     },
     "execution_count": 32,
     "metadata": {},
     "output_type": "execute_result"
    }
   ],
   "source": [
    "marks = [76,58,98,45,64]\n",
    "marks"
   ]
  },
  {
   "cell_type": "code",
   "execution_count": 33,
   "id": "ab93ed4f",
   "metadata": {},
   "outputs": [
    {
     "data": {
      "text/plain": [
       "['Apples', 'Soap', 'Towels', 'Bread', 'Eggs']"
      ]
     },
     "execution_count": 33,
     "metadata": {},
     "output_type": "execute_result"
    }
   ],
   "source": [
    "shopping_list = ['Apples','Soap','Towels','Bread','Eggs']\n",
    "shopping_list"
   ]
  },
  {
   "cell_type": "markdown",
   "id": "6dc78062",
   "metadata": {},
   "source": [
    "#### b. String"
   ]
  },
  {
   "cell_type": "code",
   "execution_count": 42,
   "id": "526e2097",
   "metadata": {},
   "outputs": [
    {
     "data": {
      "text/plain": [
       "'Hellow World'"
      ]
     },
     "execution_count": 42,
     "metadata": {},
     "output_type": "execute_result"
    }
   ],
   "source": [
    "x = 'Hellow World'\n",
    "x"
   ]
  },
  {
   "cell_type": "code",
   "execution_count": 35,
   "id": "a063992d",
   "metadata": {},
   "outputs": [
    {
     "data": {
      "text/plain": [
       "str"
      ]
     },
     "execution_count": 35,
     "metadata": {},
     "output_type": "execute_result"
    }
   ],
   "source": [
    "type(x)"
   ]
  },
  {
   "cell_type": "code",
   "execution_count": 36,
   "id": "98f82521",
   "metadata": {},
   "outputs": [
    {
     "data": {
      "text/plain": [
       "'Python 3.0'"
      ]
     },
     "execution_count": 36,
     "metadata": {},
     "output_type": "execute_result"
    }
   ],
   "source": [
    "y = \"Python 3.0\"\n",
    "y"
   ]
  },
  {
   "cell_type": "code",
   "execution_count": 37,
   "id": "d2c4bf9d",
   "metadata": {},
   "outputs": [
    {
     "data": {
      "text/plain": [
       "str"
      ]
     },
     "execution_count": 37,
     "metadata": {},
     "output_type": "execute_result"
    }
   ],
   "source": [
    "type(y)"
   ]
  },
  {
   "cell_type": "code",
   "execution_count": 40,
   "id": "5451bb7b",
   "metadata": {},
   "outputs": [
    {
     "name": "stdout",
     "output_type": "stream",
     "text": [
      " Multiline \n",
      "    string\n"
     ]
    }
   ],
   "source": [
    "# doc string\n",
    "z = ''' Multiline \n",
    "    string'''\n",
    "print(z)"
   ]
  },
  {
   "cell_type": "markdown",
   "id": "7b5cd067",
   "metadata": {},
   "source": [
    "#### c. Tuple"
   ]
  },
  {
   "cell_type": "code",
   "execution_count": 43,
   "id": "f2e30a88",
   "metadata": {},
   "outputs": [],
   "source": [
    "tup = ()"
   ]
  },
  {
   "cell_type": "code",
   "execution_count": 44,
   "id": "bc7ef1c9",
   "metadata": {},
   "outputs": [
    {
     "data": {
      "text/plain": [
       "tuple"
      ]
     },
     "execution_count": 44,
     "metadata": {},
     "output_type": "execute_result"
    }
   ],
   "source": [
    "type(tup)"
   ]
  },
  {
   "cell_type": "code",
   "execution_count": 46,
   "id": "9ace2362",
   "metadata": {},
   "outputs": [
    {
     "data": {
      "text/plain": [
       "(1, 2, 3, 4, 5)"
      ]
     },
     "execution_count": 46,
     "metadata": {},
     "output_type": "execute_result"
    }
   ],
   "source": [
    "tup =(1,2,3,4,5)\n",
    "tup"
   ]
  },
  {
   "cell_type": "markdown",
   "id": "5d38a200",
   "metadata": {},
   "source": [
    "## Accessing elements from sequence"
   ]
  },
  {
   "cell_type": "markdown",
   "id": "e4eec667",
   "metadata": {},
   "source": [
    "#### a. Using Positional Indexing"
   ]
  },
  {
   "cell_type": "code",
   "execution_count": 14,
   "id": "061224ce",
   "metadata": {},
   "outputs": [],
   "source": [
    "lst = [34,56,43,67,87,98,90,40,62]"
   ]
  },
  {
   "cell_type": "code",
   "execution_count": 2,
   "id": "81110776",
   "metadata": {},
   "outputs": [
    {
     "data": {
      "text/plain": [
       "[34, 56, 43, 67, 87, 98, 90, 40, 62]"
      ]
     },
     "execution_count": 2,
     "metadata": {},
     "output_type": "execute_result"
    }
   ],
   "source": [
    "lst"
   ]
  },
  {
   "cell_type": "code",
   "execution_count": 3,
   "id": "a00ac02f",
   "metadata": {},
   "outputs": [
    {
     "data": {
      "text/plain": [
       "9"
      ]
     },
     "execution_count": 3,
     "metadata": {},
     "output_type": "execute_result"
    }
   ],
   "source": [
    "len(lst)"
   ]
  },
  {
   "cell_type": "code",
   "execution_count": 4,
   "id": "e38bf4e1",
   "metadata": {},
   "outputs": [
    {
     "data": {
      "text/plain": [
       "67"
      ]
     },
     "execution_count": 4,
     "metadata": {},
     "output_type": "execute_result"
    }
   ],
   "source": [
    "lst[3]"
   ]
  },
  {
   "cell_type": "code",
   "execution_count": 5,
   "id": "4bfb2a4e",
   "metadata": {},
   "outputs": [
    {
     "data": {
      "text/plain": [
       "[67, 87, 98, 90]"
      ]
     },
     "execution_count": 5,
     "metadata": {},
     "output_type": "execute_result"
    }
   ],
   "source": [
    "lst[3:7]"
   ]
  },
  {
   "cell_type": "code",
   "execution_count": 6,
   "id": "aa037ca8",
   "metadata": {},
   "outputs": [
    {
     "data": {
      "text/plain": [
       "[34, 56, 43, 67, 87]"
      ]
     },
     "execution_count": 6,
     "metadata": {},
     "output_type": "execute_result"
    }
   ],
   "source": [
    "lst[:5]"
   ]
  },
  {
   "cell_type": "code",
   "execution_count": 7,
   "id": "d29e5143",
   "metadata": {},
   "outputs": [
    {
     "data": {
      "text/plain": [
       "[98, 90, 40, 62]"
      ]
     },
     "execution_count": 7,
     "metadata": {},
     "output_type": "execute_result"
    }
   ],
   "source": [
    "lst[5:]"
   ]
  },
  {
   "cell_type": "code",
   "execution_count": 8,
   "id": "1f444d68",
   "metadata": {},
   "outputs": [
    {
     "data": {
      "text/plain": [
       "[34, 56, 43, 67, 87, 98, 90, 40, 62]"
      ]
     },
     "execution_count": 8,
     "metadata": {},
     "output_type": "execute_result"
    }
   ],
   "source": [
    "lst[:]"
   ]
  },
  {
   "cell_type": "code",
   "execution_count": 9,
   "id": "3cd37936",
   "metadata": {},
   "outputs": [
    {
     "data": {
      "text/plain": [
       "[34, 56, 43, 67, 87, 98, 90, 40, 62]"
      ]
     },
     "execution_count": 9,
     "metadata": {},
     "output_type": "execute_result"
    }
   ],
   "source": [
    "lst"
   ]
  },
  {
   "cell_type": "code",
   "execution_count": 10,
   "id": "beab6000",
   "metadata": {},
   "outputs": [
    {
     "data": {
      "text/plain": [
       "[56, 43, 67, 87, 98, 90, 40]"
      ]
     },
     "execution_count": 10,
     "metadata": {},
     "output_type": "execute_result"
    }
   ],
   "source": [
    "lst[1:8]"
   ]
  },
  {
   "cell_type": "code",
   "execution_count": 16,
   "id": "efbd2189",
   "metadata": {},
   "outputs": [
    {
     "data": {
      "text/plain": [
       "[56, 67, 98, 40]"
      ]
     },
     "execution_count": 16,
     "metadata": {},
     "output_type": "execute_result"
    }
   ],
   "source": [
    "lst[1:8:2]"
   ]
  },
  {
   "cell_type": "code",
   "execution_count": 12,
   "id": "bf4138a1",
   "metadata": {},
   "outputs": [
    {
     "data": {
      "text/plain": [
       "[34, 43, 87, 90, 62]"
      ]
     },
     "execution_count": 12,
     "metadata": {},
     "output_type": "execute_result"
    }
   ],
   "source": [
    "lst[::2]"
   ]
  },
  {
   "cell_type": "code",
   "execution_count": 13,
   "id": "d955cac4",
   "metadata": {},
   "outputs": [
    {
     "data": {
      "text/plain": [
       "[(0, 34),\n",
       " (1, 56),\n",
       " (2, 43),\n",
       " (3, 67),\n",
       " (4, 87),\n",
       " (5, 98),\n",
       " (6, 90),\n",
       " (7, 40),\n",
       " (8, 62)]"
      ]
     },
     "execution_count": 13,
     "metadata": {},
     "output_type": "execute_result"
    }
   ],
   "source": [
    "list(enumerate(lst))"
   ]
  },
  {
   "cell_type": "code",
   "execution_count": 17,
   "id": "d373e155",
   "metadata": {},
   "outputs": [],
   "source": [
    "mystr = 'I love python'"
   ]
  },
  {
   "cell_type": "code",
   "execution_count": 18,
   "id": "109a1d1d",
   "metadata": {},
   "outputs": [
    {
     "data": {
      "text/plain": [
       "[(0, 'I'),\n",
       " (1, ' '),\n",
       " (2, 'l'),\n",
       " (3, 'o'),\n",
       " (4, 'v'),\n",
       " (5, 'e'),\n",
       " (6, ' '),\n",
       " (7, 'p'),\n",
       " (8, 'y'),\n",
       " (9, 't'),\n",
       " (10, 'h'),\n",
       " (11, 'o'),\n",
       " (12, 'n')]"
      ]
     },
     "execution_count": 18,
     "metadata": {},
     "output_type": "execute_result"
    }
   ],
   "source": [
    "list(enumerate(mystr))"
   ]
  },
  {
   "cell_type": "code",
   "execution_count": 19,
   "id": "7eafc5ba",
   "metadata": {},
   "outputs": [
    {
     "data": {
      "text/plain": [
       "'python'"
      ]
     },
     "execution_count": 19,
     "metadata": {},
     "output_type": "execute_result"
    }
   ],
   "source": [
    "mystr[7:]"
   ]
  },
  {
   "cell_type": "code",
   "execution_count": 21,
   "id": "841f47b2",
   "metadata": {},
   "outputs": [
    {
     "data": {
      "text/plain": [
       "'n'"
      ]
     },
     "execution_count": 21,
     "metadata": {},
     "output_type": "execute_result"
    }
   ],
   "source": [
    "mystr[-1]"
   ]
  },
  {
   "cell_type": "code",
   "execution_count": 22,
   "id": "e559fbeb",
   "metadata": {},
   "outputs": [],
   "source": [
    "tup = (34,66,77,22,55)"
   ]
  },
  {
   "cell_type": "code",
   "execution_count": 23,
   "id": "cfb54958",
   "metadata": {},
   "outputs": [
    {
     "data": {
      "text/plain": [
       "22"
      ]
     },
     "execution_count": 23,
     "metadata": {},
     "output_type": "execute_result"
    }
   ],
   "source": [
    "tup[3]"
   ]
  },
  {
   "cell_type": "code",
   "execution_count": 24,
   "id": "db278565",
   "metadata": {},
   "outputs": [
    {
     "data": {
      "text/plain": [
       "(66, 77, 22)"
      ]
     },
     "execution_count": 24,
     "metadata": {},
     "output_type": "execute_result"
    }
   ],
   "source": [
    "tup[1:4]"
   ]
  },
  {
   "cell_type": "markdown",
   "id": "95fe1db0",
   "metadata": {},
   "source": [
    "#### b. Using for loop"
   ]
  },
  {
   "cell_type": "code",
   "execution_count": 25,
   "id": "214ada3e",
   "metadata": {},
   "outputs": [],
   "source": [
    "shopping_list = ['Apples','Soap','Towels','Bread','Eggs']"
   ]
  },
  {
   "cell_type": "code",
   "execution_count": 33,
   "id": "09188266",
   "metadata": {},
   "outputs": [
    {
     "name": "stdout",
     "output_type": "stream",
     "text": [
      "Apples\n",
      "Hi\n",
      "Soap\n",
      "Hi\n",
      "Towels\n",
      "Hi\n",
      "Bread\n",
      "Hi\n",
      "Eggs\n",
      "Hi\n",
      "Hello\n"
     ]
    }
   ],
   "source": [
    "for x in shopping_list:\n",
    "    print(x)    \n",
    "    print('Hi')\n",
    "print('Hello') "
   ]
  },
  {
   "cell_type": "code",
   "execution_count": 34,
   "id": "eaf3339b",
   "metadata": {},
   "outputs": [],
   "source": [
    "mystr = 'Python3.0'"
   ]
  },
  {
   "cell_type": "code",
   "execution_count": 35,
   "id": "e3602fb4",
   "metadata": {},
   "outputs": [
    {
     "name": "stdout",
     "output_type": "stream",
     "text": [
      "P\n",
      "y\n",
      "t\n",
      "h\n",
      "o\n",
      "n\n",
      "3\n",
      ".\n",
      "0\n"
     ]
    }
   ],
   "source": [
    "for x in mystr:\n",
    "    print(x)"
   ]
  },
  {
   "cell_type": "code",
   "execution_count": 36,
   "id": "fa546364",
   "metadata": {},
   "outputs": [],
   "source": [
    "marks = [45,69,89,77,34]"
   ]
  },
  {
   "cell_type": "code",
   "execution_count": 37,
   "id": "de6f7c9e",
   "metadata": {},
   "outputs": [
    {
     "name": "stdout",
     "output_type": "stream",
     "text": [
      "Pass\n",
      "First Class\n",
      "Distinction\n",
      "First Class\n",
      "Pass\n",
      "Completed\n"
     ]
    }
   ],
   "source": [
    "for x in marks:\n",
    "    if x > 80:\n",
    "        print('Distinction')\n",
    "    elif x > 60:\n",
    "        print('First Class')\n",
    "    else:\n",
    "        print('Pass')\n",
    "\n",
    "print('Completed')"
   ]
  }
 ],
 "metadata": {
  "kernelspec": {
   "display_name": "Python 3 (ipykernel)",
   "language": "python",
   "name": "python3"
  },
  "language_info": {
   "codemirror_mode": {
    "name": "ipython",
    "version": 3
   },
   "file_extension": ".py",
   "mimetype": "text/x-python",
   "name": "python",
   "nbconvert_exporter": "python",
   "pygments_lexer": "ipython3",
   "version": "3.9.12"
  }
 },
 "nbformat": 4,
 "nbformat_minor": 5
}
