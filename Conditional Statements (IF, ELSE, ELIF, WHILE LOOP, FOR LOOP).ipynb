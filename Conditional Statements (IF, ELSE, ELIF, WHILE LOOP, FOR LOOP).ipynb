{
 "cells": [
  {
   "cell_type": "markdown",
   "id": "fecd1fc8",
   "metadata": {},
   "source": [
    "# IF-Else Statement\n",
    "The condition of if statement can be any valid logical expression which can be either evaluated to true or false. The if statement is used to test a specific condition, and if the condition is true, the if-block code is executed."
   ]
  },
  {
   "cell_type": "markdown",
   "id": "1d2a96fd",
   "metadata": {},
   "source": [
    "###### Examples\n",
    "- Write program to check whether the number is even or odd"
   ]
  },
  {
   "cell_type": "code",
   "execution_count": 1,
   "id": "a85eae3f",
   "metadata": {},
   "outputs": [
    {
     "name": "stdout",
     "output_type": "stream",
     "text": [
      "Enter a Number: 14\n",
      "14 is a even number.\n"
     ]
    }
   ],
   "source": [
    "a = int(input('Enter a Number: '))\n",
    "if a%2==0:\n",
    "    print(a, \"is a even number.\")\n",
    "else:\n",
    "    print(a, 'is a odd number.')"
   ]
  },
  {
   "cell_type": "markdown",
   "id": "16b79fc2",
   "metadata": {},
   "source": [
    "- Write program to check whether the number is divisible by 9 or not."
   ]
  },
  {
   "cell_type": "code",
   "execution_count": 2,
   "id": "47f468fc",
   "metadata": {},
   "outputs": [
    {
     "name": "stdout",
     "output_type": "stream",
     "text": [
      "Enter a Number: 18\n",
      "18 is divisible by 9\n"
     ]
    }
   ],
   "source": [
    "b=int(input('Enter a Number: '))\n",
    "if b%9==0:\n",
    "    print(b, 'is divisible by 9')\n",
    "else:\n",
    "    print(b, 'is not divisible by 9')"
   ]
  },
  {
   "cell_type": "markdown",
   "id": "9367101f",
   "metadata": {},
   "source": [
    "- Write a program to check whether a person is eligible for voting or not"
   ]
  },
  {
   "cell_type": "code",
   "execution_count": 3,
   "id": "0dc39ae4",
   "metadata": {},
   "outputs": [
    {
     "name": "stdout",
     "output_type": "stream",
     "text": [
      "Enter your age: 21\n",
      "You are eligible for voting\n"
     ]
    }
   ],
   "source": [
    "age=int(input('Enter your age: '))\n",
    "if age>=18:\n",
    "    print('You are eligible for voting')\n",
    "else:\n",
    "    print('You are not eligible for voting')\n"
   ]
  },
  {
   "cell_type": "markdown",
   "id": "a560fca9",
   "metadata": {},
   "source": [
    "- Write a program to check whether a number is divisible by 7 or not."
   ]
  },
  {
   "cell_type": "code",
   "execution_count": 4,
   "id": "0f1e9a9e",
   "metadata": {},
   "outputs": [
    {
     "name": "stdout",
     "output_type": "stream",
     "text": [
      "Enter a number: 49\n",
      "Divisible by 7\n"
     ]
    }
   ],
   "source": [
    "number=int(input('Enter a number: '))\n",
    "if number%7==0:\n",
    "    print('Divisible by 7')\n",
    "else:\n",
    "    print('Not divisible by 7')"
   ]
  },
  {
   "cell_type": "markdown",
   "id": "a1352eb7",
   "metadata": {},
   "source": [
    "- Write a program to calculate the electricity bill (accept number of unit from user) according to following criteria:"
   ]
  },
  {
   "cell_type": "code",
   "execution_count": 5,
   "id": "daaf7a44",
   "metadata": {},
   "outputs": [
    {
     "name": "stdout",
     "output_type": "stream",
     "text": [
      "Total unit: 114\n",
      "70\n"
     ]
    }
   ],
   "source": [
    "#          UNIT                  COST\n",
    "#    First 100 units     -     no charge\n",
    "#    Next  100 units     -     ₹ 05 per unit\n",
    "#    After 200 units     -     ₹ 10 per unit\n",
    "\n",
    "unit=int(input('Total unit: '))\n",
    "if unit<=100:\n",
    "    print('No charge')\n",
    "if  unit>100 and unit<=200:\n",
    "    print((unit-100)*5)\n",
    "if  unit>200:\n",
    "    print(500+(unit-200)*10)"
   ]
  },
  {
   "cell_type": "markdown",
   "id": "edd25961",
   "metadata": {},
   "source": [
    "- Write a program to find largest of three numbers."
   ]
  },
  {
   "cell_type": "code",
   "execution_count": 6,
   "id": "8da654df",
   "metadata": {},
   "outputs": [
    {
     "name": "stdout",
     "output_type": "stream",
     "text": [
      "Enter a Number 1= 43\n",
      "Enter a Number 2= 35\n",
      "Enter a Number 3= 65\n",
      "c is greater\n"
     ]
    }
   ],
   "source": [
    "a=int(input('Enter a Number 1= '))\n",
    "b=int(input('Enter a Number 2= '))\n",
    "c=int(input('Enter a Number 3= '))\n",
    "\n",
    "if a>b and a>c:\n",
    "    print('a is greater')\n",
    "if b>a and b>c:\n",
    "    print ('b is greater')\n",
    "if c>a and c>b:\n",
    "    print ('c is greater')"
   ]
  },
  {
   "cell_type": "markdown",
   "id": "324b6828",
   "metadata": {},
   "source": [
    "## ELIF\n",
    "The elif statement allows us to check multiple conditions and execute a certain block of statements depending on true condition among them. Depending on our needs, our code can contain any number of elif statements. Elif is a optional while using"
   ]
  },
  {
   "cell_type": "markdown",
   "id": "915b0159",
   "metadata": {},
   "source": [
    "- Write a program to compare price with 100"
   ]
  },
  {
   "cell_type": "code",
   "execution_count": 7,
   "id": "7e3c64a9",
   "metadata": {},
   "outputs": [
    {
     "name": "stdout",
     "output_type": "stream",
     "text": [
      "Enter a price: 322\n",
      "Price is greater than 100\n"
     ]
    }
   ],
   "source": [
    "price = int(input('Enter a price: '))\n",
    "if price > 100:\n",
    "    print(\"Price is greater than 100\")\n",
    "elif price ==100:\n",
    "    print('Price is 100')\n",
    "elif price <100:\n",
    "    print('Price is less than 100')"
   ]
  },
  {
   "cell_type": "markdown",
   "id": "33bdaa68",
   "metadata": {},
   "source": [
    "- Write program to check whether the entered value is equal to 20,50,110"
   ]
  },
  {
   "cell_type": "code",
   "execution_count": 8,
   "id": "679cb179",
   "metadata": {},
   "outputs": [
    {
     "name": "stdout",
     "output_type": "stream",
     "text": [
      "Enter a number: 50\n",
      "Entered number is equal to 50\n"
     ]
    }
   ],
   "source": [
    "num= int(input('Enter a number: '))\n",
    "if num==20:\n",
    "    print('Entered number is equal to 20')\n",
    "elif num==50:\n",
    "    print('Entered number is equal to 50')\n",
    "elif num==110:\n",
    "    print('Entered number is equal to 110')\n",
    "else:\n",
    "    print(\"Entered number is not equal to 20,50 and 110\")"
   ]
  },
  {
   "cell_type": "markdown",
   "id": "443b5672",
   "metadata": {},
   "source": [
    "- Write a program to display the month name by entering number of month"
   ]
  },
  {
   "cell_type": "code",
   "execution_count": 9,
   "id": "a01fbbcc",
   "metadata": {},
   "outputs": [
    {
     "name": "stdout",
     "output_type": "stream",
     "text": [
      "Enter a month number: 6\n",
      "June\n"
     ]
    }
   ],
   "source": [
    "month=int(input('Enter a month number: '))\n",
    "if month==1:\n",
    "    print('January')\n",
    "elif month==2:\n",
    "    print('February')\n",
    "elif month==3:\n",
    "    print('March')\n",
    "elif month==4:\n",
    "    print('April')\n",
    "elif month==5:\n",
    "    print('May')\n",
    "elif month==6:\n",
    "    print('June')\n",
    "elif month==7:\n",
    "    print('July')\n",
    "elif month==8:\n",
    "    print('August')\n",
    "elif month==9:\n",
    "    print('September')\n",
    "elif month==10:\n",
    "    print('October')\n",
    "elif month==11:\n",
    "    print('November')\n",
    "elif month==12:\n",
    "    print('December')\n",
    "else:\n",
    "    print('Enter number between 1 to 12')"
   ]
  },
  {
   "cell_type": "markdown",
   "id": "dcb68957",
   "metadata": {},
   "source": [
    "- Write program if 29 is divisible 3 then print 'fizz', if divisible by 5 then print 'buzz' and if divisible by both then print 'fizzbuzz'."
   ]
  },
  {
   "cell_type": "code",
   "execution_count": 10,
   "id": "58d0333c",
   "metadata": {},
   "outputs": [
    {
     "name": "stdout",
     "output_type": "stream",
     "text": [
      "fizz\n"
     ]
    }
   ],
   "source": [
    "a=29\n",
    "if a%3==0 and a%5==0:\n",
    "    print('fizzbuzz')\n",
    "elif a%5==0:\n",
    "    print('buzz')\n",
    "else:\n",
    "    print('fizz')"
   ]
  },
  {
   "cell_type": "markdown",
   "id": "2695c4e5",
   "metadata": {},
   "source": [
    "## While Loop\n",
    "This is used to execute a set of statements as long as a condition is true."
   ]
  },
  {
   "cell_type": "markdown",
   "id": "37a9301c",
   "metadata": {},
   "source": [
    "- Write a program to return a number 1 to 9 until statement is not false. Add number 1 to 'a', then print the number."
   ]
  },
  {
   "cell_type": "code",
   "execution_count": 11,
   "id": "4b19f74b",
   "metadata": {},
   "outputs": [
    {
     "name": "stdout",
     "output_type": "stream",
     "text": [
      "1\n",
      "2\n",
      "3\n",
      "4\n",
      "5\n",
      "6\n",
      "7\n",
      "8\n",
      "9\n"
     ]
    }
   ],
   "source": [
    "a=1\n",
    "while a<10:\n",
    "    print(a)\n",
    "    a=a+1"
   ]
  },
  {
   "cell_type": "markdown",
   "id": "d4e72f11",
   "metadata": {},
   "source": [
    "- Write a program to exist loop as a=7 where a<10 then add number 1 to'a'."
   ]
  },
  {
   "cell_type": "code",
   "execution_count": 12,
   "id": "1c1b06d9",
   "metadata": {},
   "outputs": [
    {
     "name": "stdout",
     "output_type": "stream",
     "text": [
      "1\n",
      "2\n",
      "3\n",
      "4\n",
      "5\n",
      "6\n"
     ]
    }
   ],
   "source": [
    "a=1\n",
    "while a<10:\n",
    "    print(a)\n",
    "    a=a+1\n",
    "    if a==7:\n",
    "        break\n"
   ]
  },
  {
   "cell_type": "markdown",
   "id": "3845d826",
   "metadata": {},
   "source": [
    "- Write a program to calculate running total and when adding 0 it will return a total sum"
   ]
  },
  {
   "cell_type": "code",
   "execution_count": 13,
   "id": "81669868",
   "metadata": {},
   "outputs": [
    {
     "name": "stdout",
     "output_type": "stream",
     "text": [
      "enter number to add to sum.\n",
      "Enter 0 to quit\n",
      "current sum: 0\n",
      "Enter a number:3\n",
      "current sum: 3\n",
      "Enter a number:4\n",
      "current sum: 7\n",
      "Enter a number:5\n",
      "current sum: 12\n",
      "Enter a number:7\n",
      "current sum: 19\n",
      "Enter a number:9\n",
      "current sum: 28\n",
      "Enter a number:34\n",
      "current sum: 62\n",
      "Enter a number:66\n",
      "current sum: 128\n",
      "Enter a number:0\n",
      "total sum=  128\n"
     ]
    }
   ],
   "source": [
    "a=1\n",
    "s=0\n",
    "print('enter number to add to sum.')\n",
    "print('Enter 0 to quit')\n",
    "while a!=0:\n",
    "    print('current sum:',s)\n",
    "    a=int(input('Enter a number:'))\n",
    "    s=s+a\n",
    "print('total sum= ',s)"
   ]
  },
  {
   "cell_type": "markdown",
   "id": "a9951d44",
   "metadata": {},
   "source": [
    "- Write a program to make a table of any number"
   ]
  },
  {
   "cell_type": "code",
   "execution_count": 24,
   "id": "52ac9c30",
   "metadata": {},
   "outputs": [
    {
     "name": "stdout",
     "output_type": "stream",
     "text": [
      "Enter number3\n",
      "3 X 1 = 3\n",
      "3 X 2 = 6\n",
      "3 X 3 = 9\n",
      "3 X 4 = 12\n",
      "3 X 5 = 15\n",
      "3 X 6 = 18\n",
      "3 X 7 = 21\n",
      "3 X 8 = 24\n",
      "3 X 9 = 27\n",
      "3 X 10 = 30\n"
     ]
    }
   ],
   "source": [
    "number = int(input('Enter number'))\n",
    "multiply_by = 1\n",
    "while multiply_by<=10:\n",
    "    product = multiply_by*number\n",
    "    print(number,'X',multiply_by,'=',product)\n",
    "    multiply_by=multiply_by+1"
   ]
  },
  {
   "cell_type": "markdown",
   "id": "ad563c8c",
   "metadata": {},
   "source": [
    "## For Loop\n",
    "A for loop didn't stop until it has iterated over all the items in a list or all the characters in a string.\n",
    "To specify how many times in a row the for loop should iterate over, use the range() function with a provided range."
   ]
  },
  {
   "cell_type": "code",
   "execution_count": 15,
   "id": "46738075",
   "metadata": {},
   "outputs": [
    {
     "name": "stdout",
     "output_type": "stream",
     "text": [
      "0\n",
      "1\n",
      "2\n",
      "3\n",
      "4\n",
      "5\n",
      "6\n",
      "7\n",
      "8\n",
      "9\n"
     ]
    }
   ],
   "source": [
    "for i in range(10):\n",
    "    print(i)\n",
    "\n",
    "#In range(5), we clearly show that the largest number we want is 5, but it is not inclusive.\n",
    "#It is simply the stopping point and does not include it."
   ]
  },
  {
   "cell_type": "code",
   "execution_count": 16,
   "id": "d48c0032",
   "metadata": {},
   "outputs": [
    {
     "name": "stdout",
     "output_type": "stream",
     "text": [
      "1\n",
      "2\n",
      "3\n",
      "4\n",
      "5\n",
      "6\n",
      "7\n",
      "8\n",
      "9\n",
      "10\n"
     ]
    }
   ],
   "source": [
    "# What if we want our range to start from 1 and then to also see 5 printed to the console.\n",
    "# Take 1 as first argument where this arguments is inclusive in output\n",
    "# Second argument is where sequence should end but its not inclusive in output, So in this case its 11\n",
    "\n",
    "for i in range(1,11):\n",
    "    print(i)"
   ]
  },
  {
   "cell_type": "code",
   "execution_count": 17,
   "id": "e648a531",
   "metadata": {},
   "outputs": [
    {
     "name": "stdout",
     "output_type": "stream",
     "text": [
      "0\n",
      "1\n",
      "2\n",
      "3\n",
      "4\n",
      "5\n",
      "6\n"
     ]
    }
   ],
   "source": [
    "#With the break statement we can stop the loop before it has looped through all the items\n",
    "\n",
    "\n",
    "for i in range(10):\n",
    "    print(i)\n",
    "    if i==6:\n",
    "        break"
   ]
  },
  {
   "cell_type": "markdown",
   "id": "b2c35407",
   "metadata": {},
   "source": [
    "- Write a program for a range 10 to 15"
   ]
  },
  {
   "cell_type": "code",
   "execution_count": 18,
   "id": "17c33521",
   "metadata": {},
   "outputs": [
    {
     "name": "stdout",
     "output_type": "stream",
     "text": [
      "10\n",
      "11\n",
      "12\n",
      "13\n",
      "14\n"
     ]
    }
   ],
   "source": [
    "for x in range (10,15):     # 15 is not included\n",
    "    print (x)"
   ]
  },
  {
   "cell_type": "markdown",
   "id": "b564974b",
   "metadata": {},
   "source": [
    "- Write a program to return a number from 30 to 40"
   ]
  },
  {
   "cell_type": "code",
   "execution_count": 19,
   "id": "7644e249",
   "metadata": {},
   "outputs": [
    {
     "name": "stdout",
     "output_type": "stream",
     "text": [
      "30\n",
      "31\n",
      "32\n",
      "33\n",
      "34\n",
      "35\n",
      "36\n",
      "37\n",
      "38\n",
      "39\n",
      "40\n"
     ]
    }
   ],
   "source": [
    "for y in range (30,41):  # 40 is included\n",
    "    print (y)"
   ]
  },
  {
   "cell_type": "markdown",
   "id": "74f5fbd8",
   "metadata": {},
   "source": [
    "- Write a program to find the squares and cubes of each element of the list using for loop "
   ]
  },
  {
   "cell_type": "code",
   "execution_count": 20,
   "id": "9a1a85cf",
   "metadata": {},
   "outputs": [
    {
     "name": "stdout",
     "output_type": "stream",
     "text": [
      "for number 1 , Square= 1  & Cube=  1\n",
      "for number 2 , Square= 4  & Cube=  8\n",
      "for number 3 , Square= 9  & Cube=  27\n",
      "for number 4 , Square= 16  & Cube=  64\n",
      "for number 5 , Square= 25  & Cube=  125\n",
      "for number 6 , Square= 36  & Cube=  216\n",
      "for number 7 , Square= 49  & Cube=  343\n",
      "for number 8 , Square= 64  & Cube=  512\n",
      "for number 9 , Square= 81  & Cube=  729\n"
     ]
    }
   ],
   "source": [
    "Numbers=[1,2,3,4,5,6,7,8,9]\n",
    "for num in Numbers:\n",
    "    a=num**2\n",
    "    b=num**3\n",
    "    print ('for number',num,', Square=',a,' & Cube= ',b)\n",
    "    "
   ]
  }
 ],
 "metadata": {
  "kernelspec": {
   "display_name": "Python 3 (ipykernel)",
   "language": "python",
   "name": "python3"
  },
  "language_info": {
   "codemirror_mode": {
    "name": "ipython",
    "version": 3
   },
   "file_extension": ".py",
   "mimetype": "text/x-python",
   "name": "python",
   "nbconvert_exporter": "python",
   "pygments_lexer": "ipython3",
   "version": "3.9.12"
  }
 },
 "nbformat": 4,
 "nbformat_minor": 5
}
