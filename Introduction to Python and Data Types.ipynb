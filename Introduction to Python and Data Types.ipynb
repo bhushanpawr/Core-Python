{
 "cells": [
  {
   "cell_type": "markdown",
   "id": "4f799c0d",
   "metadata": {},
   "source": [
    "### Print() function"
   ]
  },
  {
   "cell_type": "code",
   "execution_count": 1,
   "id": "86d29e9e",
   "metadata": {},
   "outputs": [
    {
     "name": "stdout",
     "output_type": "stream",
     "text": [
      "Hello Python\n"
     ]
    }
   ],
   "source": [
    "print('Hello Python')"
   ]
  },
  {
   "cell_type": "code",
   "execution_count": 2,
   "id": "f79dd670",
   "metadata": {},
   "outputs": [
    {
     "name": "stdout",
     "output_type": "stream",
     "text": [
      "\n",
      "x= 23\n"
     ]
    }
   ],
   "source": [
    "#Return a value\n",
    "print()\n",
    "x=23\n",
    "# Two objects are passed in print() function\n",
    "print('x=',x)"
   ]
  },
  {
   "cell_type": "code",
   "execution_count": 3,
   "id": "fb5314e6",
   "metadata": {},
   "outputs": [
    {
     "name": "stdout",
     "output_type": "stream",
     "text": [
      "Enter your name: Bhushan\n",
      "Name:  Bhushan\n"
     ]
    }
   ],
   "source": [
    "# Taking a input from user (bydefault input() function take input in string format)\n",
    "name= input('Enter your name: ')\n",
    "print('Name: ',name)"
   ]
  },
  {
   "cell_type": "code",
   "execution_count": 4,
   "id": "7c10f1c7",
   "metadata": {},
   "outputs": [
    {
     "name": "stdout",
     "output_type": "stream",
     "text": [
      "Enter a first number: 7\n",
      "Enter a second number: 3\n",
      "a+b:  10\n"
     ]
    }
   ],
   "source": [
    "# Taking input as integer number \n",
    "a=int(input('Enter a first number: '))\n",
    "b=int(input('Enter a second number: '))\n",
    "print('a+b: ',a+b)"
   ]
  },
  {
   "cell_type": "markdown",
   "id": "31e45cbb",
   "metadata": {},
   "source": [
    "### help()- to find uses of builtin functions"
   ]
  },
  {
   "cell_type": "code",
   "execution_count": 5,
   "id": "a10221cc",
   "metadata": {},
   "outputs": [
    {
     "name": "stdout",
     "output_type": "stream",
     "text": [
      "Help on built-in function print in module builtins:\n",
      "\n",
      "print(...)\n",
      "    print(value, ..., sep=' ', end='\\n', file=sys.stdout, flush=False)\n",
      "    \n",
      "    Prints the values to a stream, or to sys.stdout by default.\n",
      "    Optional keyword arguments:\n",
      "    file:  a file-like object (stream); defaults to the current sys.stdout.\n",
      "    sep:   string inserted between values, default a space.\n",
      "    end:   string appended after the last value, default a newline.\n",
      "    flush: whether to forcibly flush the stream.\n",
      "\n"
     ]
    }
   ],
   "source": [
    "help(print)"
   ]
  },
  {
   "cell_type": "markdown",
   "id": "6e0abebc",
   "metadata": {},
   "source": [
    "# Data Types:\n",
    "### Immutable (no chage in values after completing a object)\n",
    "- 1) Numbers\n",
    "- 2) Strings\n",
    "- 3) Touples\n",
    "\n",
    "### Mutable ( values can be change after performing operation on it )\n",
    "- 4) List\n",
    "- 5) Dictionary\n",
    "- 6) Set"
   ]
  },
  {
   "cell_type": "markdown",
   "id": "b0c82ede",
   "metadata": {},
   "source": [
    "### 1)Numbers"
   ]
  },
  {
   "cell_type": "code",
   "execution_count": 6,
   "id": "a5d64d56",
   "metadata": {},
   "outputs": [],
   "source": [
    "x=['a','b','c','d','bhushan']"
   ]
  },
  {
   "cell_type": "code",
   "execution_count": 7,
   "id": "5b801b52",
   "metadata": {},
   "outputs": [
    {
     "data": {
      "text/plain": [
       "'bhushan'"
      ]
     },
     "execution_count": 7,
     "metadata": {},
     "output_type": "execute_result"
    }
   ],
   "source": [
    "#indexing- used to find value of a index position\n",
    "x[4]"
   ]
  },
  {
   "cell_type": "code",
   "execution_count": 8,
   "id": "a677087f",
   "metadata": {},
   "outputs": [
    {
     "data": {
      "text/plain": [
       "['c', 'd', 'bhushan']"
      ]
     },
     "execution_count": 8,
     "metadata": {},
     "output_type": "execute_result"
    }
   ],
   "source": [
    "x[2:5]"
   ]
  },
  {
   "cell_type": "code",
   "execution_count": 9,
   "id": "c4bb8456",
   "metadata": {},
   "outputs": [
    {
     "data": {
      "text/plain": [
       "'bhushan'"
      ]
     },
     "execution_count": 9,
     "metadata": {},
     "output_type": "execute_result"
    }
   ],
   "source": [
    "x[-1]"
   ]
  },
  {
   "cell_type": "code",
   "execution_count": 10,
   "id": "e890bf7b",
   "metadata": {},
   "outputs": [
    {
     "data": {
      "text/plain": [
       "['c', 'd', 'bhushan']"
      ]
     },
     "execution_count": 10,
     "metadata": {},
     "output_type": "execute_result"
    }
   ],
   "source": [
    "x[-3:]"
   ]
  },
  {
   "cell_type": "code",
   "execution_count": 11,
   "id": "8b923e15",
   "metadata": {},
   "outputs": [
    {
     "data": {
      "text/plain": [
       "['a', 'b']"
      ]
     },
     "execution_count": 11,
     "metadata": {},
     "output_type": "execute_result"
    }
   ],
   "source": [
    "x[:-3]"
   ]
  },
  {
   "cell_type": "code",
   "execution_count": 12,
   "id": "94246782",
   "metadata": {},
   "outputs": [
    {
     "data": {
      "text/plain": [
       "['bhushan', 'd', 'c', 'b', 'a']"
      ]
     },
     "execution_count": 12,
     "metadata": {},
     "output_type": "execute_result"
    }
   ],
   "source": [
    "x[::-1]"
   ]
  },
  {
   "cell_type": "code",
   "execution_count": 13,
   "id": "61999bea",
   "metadata": {},
   "outputs": [
    {
     "data": {
      "text/plain": [
       "'Hello World'"
      ]
     },
     "execution_count": 13,
     "metadata": {},
     "output_type": "execute_result"
    }
   ],
   "source": [
    "String='Hello World'\n",
    "String"
   ]
  },
  {
   "cell_type": "code",
   "execution_count": 14,
   "id": "b49c58c5",
   "metadata": {},
   "outputs": [
    {
     "data": {
      "text/plain": [
       "'ello World'"
      ]
     },
     "execution_count": 14,
     "metadata": {},
     "output_type": "execute_result"
    }
   ],
   "source": [
    "String[1:]"
   ]
  },
  {
   "cell_type": "markdown",
   "id": "a6788406",
   "metadata": {},
   "source": [
    "### 2)Strings"
   ]
  },
  {
   "cell_type": "code",
   "execution_count": 15,
   "id": "976ff3c6",
   "metadata": {},
   "outputs": [
    {
     "data": {
      "text/plain": [
       "'PythonTutorial'"
      ]
     },
     "execution_count": 15,
     "metadata": {},
     "output_type": "execute_result"
    }
   ],
   "source": [
    "#Concatination\n",
    "'Python'+'Tutorial'"
   ]
  },
  {
   "cell_type": "code",
   "execution_count": 16,
   "id": "5f7cffc1",
   "metadata": {},
   "outputs": [
    {
     "data": {
      "text/plain": [
       "'PythonPython'"
      ]
     },
     "execution_count": 16,
     "metadata": {},
     "output_type": "execute_result"
    }
   ],
   "source": [
    "#Repitition\n",
    "'Python'*2"
   ]
  },
  {
   "cell_type": "code",
   "execution_count": 17,
   "id": "90276313",
   "metadata": {},
   "outputs": [
    {
     "data": {
      "text/plain": [
       "'thon'"
      ]
     },
     "execution_count": 17,
     "metadata": {},
     "output_type": "execute_result"
    }
   ],
   "source": [
    "#Slicing\n",
    "string1=\"Python\"\n",
    "string1[2:6]"
   ]
  },
  {
   "cell_type": "code",
   "execution_count": 18,
   "id": "36d1d372",
   "metadata": {},
   "outputs": [
    {
     "data": {
      "text/plain": [
       "'ny'"
      ]
     },
     "execution_count": 18,
     "metadata": {},
     "output_type": "execute_result"
    }
   ],
   "source": [
    "#Indexing\n",
    "string1[-1]+string1[1]"
   ]
  },
  {
   "cell_type": "code",
   "execution_count": 19,
   "id": "2e6970b6",
   "metadata": {},
   "outputs": [],
   "source": [
    "a='Bhushan'"
   ]
  },
  {
   "cell_type": "code",
   "execution_count": 20,
   "id": "32967699",
   "metadata": {},
   "outputs": [
    {
     "data": {
      "text/plain": [
       "5"
      ]
     },
     "execution_count": 20,
     "metadata": {},
     "output_type": "execute_result"
    }
   ],
   "source": [
    "#find()- To find a specific string\n",
    "a.find('a')"
   ]
  },
  {
   "cell_type": "code",
   "execution_count": 21,
   "id": "377e3128",
   "metadata": {},
   "outputs": [
    {
     "data": {
      "text/plain": [
       "'bhushan'"
      ]
     },
     "execution_count": 21,
     "metadata": {},
     "output_type": "execute_result"
    }
   ],
   "source": [
    "#Replace()- to replace a specific string\n",
    "a.replace('B','b')"
   ]
  },
  {
   "cell_type": "code",
   "execution_count": 22,
   "id": "7dca249a",
   "metadata": {},
   "outputs": [
    {
     "data": {
      "text/plain": [
       "['a', 'b', 'c', 'd', 'e', 'f']"
      ]
     },
     "execution_count": 22,
     "metadata": {},
     "output_type": "execute_result"
    }
   ],
   "source": [
    "#split()- To split every string\n",
    "b='a,b,c,d,e,f'\n",
    "b.split(',')"
   ]
  },
  {
   "cell_type": "code",
   "execution_count": 23,
   "id": "db5ca874",
   "metadata": {},
   "outputs": [
    {
     "data": {
      "text/plain": [
       "1"
      ]
     },
     "execution_count": 23,
     "metadata": {},
     "output_type": "execute_result"
    }
   ],
   "source": [
    "#count()- To count how many times a string repeated in list. 2,6 reperesnt the range of index.\n",
    "a.count('h',2,6)"
   ]
  },
  {
   "cell_type": "code",
   "execution_count": 24,
   "id": "76b0aeca",
   "metadata": {},
   "outputs": [
    {
     "data": {
      "text/plain": [
       "True"
      ]
     },
     "execution_count": 24,
     "metadata": {},
     "output_type": "execute_result"
    }
   ],
   "source": [
    "#isalpha()- To check all values of string are Alphbets or not. (make sure that string does not contains space between words)\n",
    "a.isalpha()"
   ]
  },
  {
   "cell_type": "code",
   "execution_count": 25,
   "id": "97089938",
   "metadata": {},
   "outputs": [
    {
     "data": {
      "text/plain": [
       "'BHUSHAN'"
      ]
     },
     "execution_count": 25,
     "metadata": {},
     "output_type": "execute_result"
    }
   ],
   "source": [
    "#upper()- To convert a string into Uppercase\n",
    "a.upper()"
   ]
  },
  {
   "cell_type": "code",
   "execution_count": 26,
   "id": "991a6ed5",
   "metadata": {},
   "outputs": [
    {
     "data": {
      "text/plain": [
       "'u'"
      ]
     },
     "execution_count": 26,
     "metadata": {},
     "output_type": "execute_result"
    }
   ],
   "source": [
    "#max()- To find highest (according to A-Z sequence) string in data set\n",
    "max(a)"
   ]
  },
  {
   "cell_type": "code",
   "execution_count": 27,
   "id": "72ef197d",
   "metadata": {},
   "outputs": [
    {
     "data": {
      "text/plain": [
       "'B'"
      ]
     },
     "execution_count": 27,
     "metadata": {},
     "output_type": "execute_result"
    }
   ],
   "source": [
    "#min()- To find smallest (according to A-Z sequence) string in data set\n",
    "min(a)"
   ]
  },
  {
   "cell_type": "markdown",
   "id": "0de85fbf",
   "metadata": {},
   "source": [
    "### 3)Tuples\n",
    "- It is a immutable object (immpossible to change the values assigned in the array)\n",
    "- It is defined using curve brackets"
   ]
  },
  {
   "cell_type": "code",
   "execution_count": 28,
   "id": "32618cba",
   "metadata": {},
   "outputs": [],
   "source": [
    "a=('a','b','c','d')"
   ]
  },
  {
   "cell_type": "code",
   "execution_count": 29,
   "id": "1516f539",
   "metadata": {},
   "outputs": [
    {
     "data": {
      "text/plain": [
       "('a', 'b', 'c', 'd', 'a', 'b', 'c', 'd')"
      ]
     },
     "execution_count": 29,
     "metadata": {},
     "output_type": "execute_result"
    }
   ],
   "source": [
    "#Repitition- To repeat the array two times\n",
    "a*2"
   ]
  },
  {
   "cell_type": "code",
   "execution_count": 30,
   "id": "99da3ce4",
   "metadata": {},
   "outputs": [
    {
     "data": {
      "text/plain": [
       "('b', 'c')"
      ]
     },
     "execution_count": 30,
     "metadata": {},
     "output_type": "execute_result"
    }
   ],
   "source": [
    "#Slicing- To get a slice of given data set\n",
    "a[1:3]"
   ]
  },
  {
   "cell_type": "code",
   "execution_count": 31,
   "id": "ee6ad5c3",
   "metadata": {},
   "outputs": [
    {
     "data": {
      "text/plain": [
       "'d'"
      ]
     },
     "execution_count": 31,
     "metadata": {},
     "output_type": "execute_result"
    }
   ],
   "source": [
    "#Indexing- To get the specified index value\n",
    "a[3]"
   ]
  },
  {
   "cell_type": "markdown",
   "id": "9f37c584",
   "metadata": {},
   "source": [
    "### 4) List\n",
    "- It is a mutable object (values can be changed assigned in array)\n",
    "- It is defined using square brackets"
   ]
  },
  {
   "cell_type": "code",
   "execution_count": 32,
   "id": "9a0b8fdf",
   "metadata": {},
   "outputs": [],
   "source": [
    "a=['1','a','b','43','Bhushan']\n",
    "b=['34','Pawar']"
   ]
  },
  {
   "cell_type": "code",
   "execution_count": 33,
   "id": "92894c0c",
   "metadata": {},
   "outputs": [
    {
     "data": {
      "text/plain": [
       "['1', 'a', 'b', '43', 'Bhushan', '1', 'a', 'b', '43', 'Bhushan']"
      ]
     },
     "execution_count": 33,
     "metadata": {},
     "output_type": "execute_result"
    }
   ],
   "source": [
    "#Repitition- To repeat the list two times\n",
    "a*2"
   ]
  },
  {
   "cell_type": "code",
   "execution_count": 34,
   "id": "fd73ceb3",
   "metadata": {},
   "outputs": [
    {
     "data": {
      "text/plain": [
       "['1', 'a', 'b', '43']"
      ]
     },
     "execution_count": 34,
     "metadata": {},
     "output_type": "execute_result"
    }
   ],
   "source": [
    "#Slicing- To get a slice of given data set\n",
    "a[-5:4]"
   ]
  },
  {
   "cell_type": "code",
   "execution_count": 35,
   "id": "e38032ce",
   "metadata": {},
   "outputs": [
    {
     "data": {
      "text/plain": [
       "'1'"
      ]
     },
     "execution_count": 35,
     "metadata": {},
     "output_type": "execute_result"
    }
   ],
   "source": [
    "#Indexing- To get the specified index value\n",
    "a[-5]"
   ]
  },
  {
   "cell_type": "code",
   "execution_count": 36,
   "id": "6e59697b",
   "metadata": {},
   "outputs": [
    {
     "data": {
      "text/plain": [
       "['1', 'a', 'b', '43', 'Bhushan', 'e']"
      ]
     },
     "execution_count": 36,
     "metadata": {},
     "output_type": "execute_result"
    }
   ],
   "source": [
    "#append() -used to extend only one value at end of data set\n",
    "a.append('e')\n",
    "a"
   ]
  },
  {
   "cell_type": "code",
   "execution_count": 37,
   "id": "a716dc68",
   "metadata": {},
   "outputs": [
    {
     "data": {
      "text/plain": [
       "['1', 'a', 'b', '43', 'Bhushan', 'e', '34', 'Pawar']"
      ]
     },
     "execution_count": 37,
     "metadata": {},
     "output_type": "execute_result"
    }
   ],
   "source": [
    "#extend() - To extend one data set with another one.\n",
    "a.extend(b)\n",
    "a"
   ]
  },
  {
   "cell_type": "code",
   "execution_count": 38,
   "id": "3767c71e",
   "metadata": {},
   "outputs": [
    {
     "data": {
      "text/plain": [
       "['1', 'a', 'b', '43', 'h', 'Bhushan', 'e', '34', 'Pawar']"
      ]
     },
     "execution_count": 38,
     "metadata": {},
     "output_type": "execute_result"
    }
   ],
   "source": [
    "#insert(Index,'value') -To insert a value at specific index position\n",
    "a.insert(4,'h')\n",
    "a"
   ]
  },
  {
   "cell_type": "code",
   "execution_count": 39,
   "id": "3c0cfd99",
   "metadata": {},
   "outputs": [
    {
     "data": {
      "text/plain": [
       "['1', 'a', 'b', 'h', 'Bhushan', 'e', '34', 'Pawar']"
      ]
     },
     "execution_count": 39,
     "metadata": {},
     "output_type": "execute_result"
    }
   ],
   "source": [
    "#pop() -To delete a specified index value from given data set\n",
    "a.pop(3)\n",
    "a"
   ]
  },
  {
   "cell_type": "code",
   "execution_count": 40,
   "id": "10735f8f",
   "metadata": {},
   "outputs": [
    {
     "data": {
      "text/plain": [
       "8"
      ]
     },
     "execution_count": 40,
     "metadata": {},
     "output_type": "execute_result"
    }
   ],
   "source": [
    "#len() -To find how long is the data set\n",
    "len(a)"
   ]
  },
  {
   "cell_type": "code",
   "execution_count": 41,
   "id": "c0acefc5",
   "metadata": {},
   "outputs": [
    {
     "data": {
      "text/plain": [
       "1"
      ]
     },
     "execution_count": 41,
     "metadata": {},
     "output_type": "execute_result"
    }
   ],
   "source": [
    "#index() -To find the index number of specific string\n",
    "a.index('a')"
   ]
  },
  {
   "cell_type": "markdown",
   "id": "c524fdf2",
   "metadata": {},
   "source": [
    "### 5) Dictionary"
   ]
  },
  {
   "cell_type": "code",
   "execution_count": 42,
   "id": "451b6914",
   "metadata": {},
   "outputs": [],
   "source": [
    "# To get a empty dictionary\n",
    "myDict={}"
   ]
  },
  {
   "cell_type": "code",
   "execution_count": 43,
   "id": "47603976",
   "metadata": {},
   "outputs": [],
   "source": [
    "# Dictionary with keys(integer) and values\n",
    "myDict={1:'monday',2:'tuesday',3:'wednesday',4:'thursday'}"
   ]
  },
  {
   "cell_type": "code",
   "execution_count": 44,
   "id": "7557de49",
   "metadata": {},
   "outputs": [],
   "source": [
    "# Dictionary with keys(integer and string) and values\n",
    "myDict1={'name':'Ram',1:[65,34,74]}"
   ]
  },
  {
   "cell_type": "code",
   "execution_count": 45,
   "id": "c9cfc8da",
   "metadata": {},
   "outputs": [
    {
     "data": {
      "text/plain": [
       "'wednesday'"
      ]
     },
     "execution_count": 45,
     "metadata": {},
     "output_type": "execute_result"
    }
   ],
   "source": [
    "#myDict[] -To access assigned dictionary for specific key\n",
    "myDict[3]"
   ]
  },
  {
   "cell_type": "code",
   "execution_count": 46,
   "id": "a76ed4db",
   "metadata": {},
   "outputs": [
    {
     "data": {
      "text/plain": [
       "4"
      ]
     },
     "execution_count": 46,
     "metadata": {},
     "output_type": "execute_result"
    }
   ],
   "source": [
    "#len() -To get the lenght of dictionary\n",
    "len(myDict)"
   ]
  },
  {
   "cell_type": "code",
   "execution_count": 47,
   "id": "6d00a400",
   "metadata": {},
   "outputs": [
    {
     "data": {
      "text/plain": [
       "dict_keys([1, 2, 3, 4])"
      ]
     },
     "execution_count": 47,
     "metadata": {},
     "output_type": "execute_result"
    }
   ],
   "source": [
    "#keys() -To get list of keys from dictionary\n",
    "myDict.keys()"
   ]
  },
  {
   "cell_type": "code",
   "execution_count": 48,
   "id": "2c19c5ab",
   "metadata": {},
   "outputs": [
    {
     "data": {
      "text/plain": [
       "dict_values(['monday', 'tuesday', 'wednesday', 'thursday'])"
      ]
     },
     "execution_count": 48,
     "metadata": {},
     "output_type": "execute_result"
    }
   ],
   "source": [
    "#values() -To get list of values from dictionary\n",
    "myDict.values()"
   ]
  },
  {
   "cell_type": "code",
   "execution_count": 49,
   "id": "8cdea9c3",
   "metadata": {},
   "outputs": [
    {
     "data": {
      "text/plain": [
       "dict_items([(1, 'monday'), (2, 'tuesday'), (3, 'wednesday'), (4, 'thursday')])"
      ]
     },
     "execution_count": 49,
     "metadata": {},
     "output_type": "execute_result"
    }
   ],
   "source": [
    "#items -To get all items of dictionary\n",
    "myDict.items()"
   ]
  },
  {
   "cell_type": "code",
   "execution_count": 50,
   "id": "508afa5e",
   "metadata": {},
   "outputs": [
    {
     "data": {
      "text/plain": [
       "'thursday'"
      ]
     },
     "execution_count": 50,
     "metadata": {},
     "output_type": "execute_result"
    }
   ],
   "source": [
    "#pop() -To remove specific key\n",
    "myDict.pop(4)"
   ]
  },
  {
   "cell_type": "markdown",
   "id": "09b61f66",
   "metadata": {},
   "source": [
    "### 6) Set\n",
    "- unordered collection of items\n",
    "- elements are not repeated"
   ]
  },
  {
   "cell_type": "code",
   "execution_count": 51,
   "id": "43a4ad0c",
   "metadata": {},
   "outputs": [],
   "source": [
    "#creating a set\n",
    "a={1,2,3,4,5,3,'d','c','g'}\n",
    "b={'a','c',3,2,5,'d','z','e'}"
   ]
  },
  {
   "cell_type": "code",
   "execution_count": 52,
   "id": "60caefd6",
   "metadata": {},
   "outputs": [
    {
     "data": {
      "text/plain": [
       "{1, 2, 3, 4, 5, 'a', 'c', 'd', 'e', 'g', 'z'}"
      ]
     },
     "execution_count": 52,
     "metadata": {},
     "output_type": "execute_result"
    }
   ],
   "source": [
    "#Union -To merge two data sets in ascending order\n",
    "a|b"
   ]
  },
  {
   "cell_type": "code",
   "execution_count": 53,
   "id": "32015a17",
   "metadata": {},
   "outputs": [
    {
     "data": {
      "text/plain": [
       "{2, 3, 5, 'c', 'd'}"
      ]
     },
     "execution_count": 53,
     "metadata": {},
     "output_type": "execute_result"
    }
   ],
   "source": [
    "#intersection() -To intersect the common items from given data sets\n",
    "a&b"
   ]
  },
  {
   "cell_type": "code",
   "execution_count": 54,
   "id": "bb3e3dd6",
   "metadata": {},
   "outputs": [
    {
     "data": {
      "text/plain": [
       "{1, 4, 'g'}"
      ]
     },
     "execution_count": 54,
     "metadata": {},
     "output_type": "execute_result"
    }
   ],
   "source": [
    "# difference -To differntiate two data set and gives remaining values from 1st data set\n",
    "a-b"
   ]
  }
 ],
 "metadata": {
  "kernelspec": {
   "display_name": "Python 3 (ipykernel)",
   "language": "python",
   "name": "python3"
  },
  "language_info": {
   "codemirror_mode": {
    "name": "ipython",
    "version": 3
   },
   "file_extension": ".py",
   "mimetype": "text/x-python",
   "name": "python",
   "nbconvert_exporter": "python",
   "pygments_lexer": "ipython3",
   "version": "3.9.12"
  }
 },
 "nbformat": 4,
 "nbformat_minor": 5
}
