{
 "cells": [
  {
   "cell_type": "code",
   "execution_count": 1,
   "id": "ae131f4c",
   "metadata": {},
   "outputs": [],
   "source": [
    "dict1 = {}"
   ]
  },
  {
   "cell_type": "code",
   "execution_count": 2,
   "id": "2c28392e",
   "metadata": {},
   "outputs": [
    {
     "data": {
      "text/plain": [
       "dict"
      ]
     },
     "execution_count": 2,
     "metadata": {},
     "output_type": "execute_result"
    }
   ],
   "source": [
    "type(dict1)"
   ]
  },
  {
   "cell_type": "code",
   "execution_count": 3,
   "id": "6dab7ac0",
   "metadata": {},
   "outputs": [],
   "source": [
    "# Create dictionary\n",
    "dict1 = {'Id':10,\n",
    "     'Name':'Peter',\n",
    "     'Age':30,\n",
    "     'Movies': ['Spider_Man','Avenger Endgame']\n",
    "     }"
   ]
  },
  {
   "cell_type": "code",
   "execution_count": 4,
   "id": "8ed91933",
   "metadata": {},
   "outputs": [
    {
     "data": {
      "text/plain": [
       "{'Id': 10,\n",
       " 'Name': 'Peter',\n",
       " 'Age': 30,\n",
       " 'Movies': ['Spider_Man', 'Avenger Endgame']}"
      ]
     },
     "execution_count": 4,
     "metadata": {},
     "output_type": "execute_result"
    }
   ],
   "source": [
    "dict1"
   ]
  },
  {
   "cell_type": "markdown",
   "id": "60448433",
   "metadata": {},
   "source": [
    "- Accessing values from keys"
   ]
  },
  {
   "cell_type": "code",
   "execution_count": 5,
   "id": "57bc9885",
   "metadata": {},
   "outputs": [
    {
     "data": {
      "text/plain": [
       "'Peter'"
      ]
     },
     "execution_count": 5,
     "metadata": {},
     "output_type": "execute_result"
    }
   ],
   "source": [
    "dict1['Name']"
   ]
  },
  {
   "cell_type": "code",
   "execution_count": 6,
   "id": "adc0f400",
   "metadata": {},
   "outputs": [
    {
     "data": {
      "text/plain": [
       "['Spider_Man', 'Avenger Endgame']"
      ]
     },
     "execution_count": 6,
     "metadata": {},
     "output_type": "execute_result"
    }
   ],
   "source": [
    "dict1['Movies']"
   ]
  },
  {
   "cell_type": "code",
   "execution_count": 7,
   "id": "103a556c",
   "metadata": {},
   "outputs": [
    {
     "data": {
      "text/plain": [
       "30"
      ]
     },
     "execution_count": 7,
     "metadata": {},
     "output_type": "execute_result"
    }
   ],
   "source": [
    "dict1['Age']"
   ]
  },
  {
   "cell_type": "markdown",
   "id": "70bba894",
   "metadata": {},
   "source": [
    "- Creating dictionary from two lists"
   ]
  },
  {
   "cell_type": "code",
   "execution_count": 8,
   "id": "6bce4513",
   "metadata": {},
   "outputs": [],
   "source": [
    "# Example 1\n",
    "keys = ['Sam','Pepper','Mary','Alexa','David','Martin']\n",
    "values = [85,78,69,74,88,73]"
   ]
  },
  {
   "cell_type": "code",
   "execution_count": 9,
   "id": "f7667ea0",
   "metadata": {},
   "outputs": [
    {
     "data": {
      "text/plain": [
       "{'Sam': 85, 'Pepper': 78, 'Mary': 69, 'Alexa': 74, 'David': 88, 'Martin': 73}"
      ]
     },
     "execution_count": 9,
     "metadata": {},
     "output_type": "execute_result"
    }
   ],
   "source": [
    "score = dict(zip(keys,values))\n",
    "score"
   ]
  },
  {
   "cell_type": "code",
   "execution_count": 10,
   "id": "2702492c",
   "metadata": {},
   "outputs": [
    {
     "data": {
      "text/plain": [
       "78"
      ]
     },
     "execution_count": 10,
     "metadata": {},
     "output_type": "execute_result"
    }
   ],
   "source": [
    "score['Pepper']"
   ]
  },
  {
   "cell_type": "code",
   "execution_count": 11,
   "id": "068527e6",
   "metadata": {},
   "outputs": [
    {
     "data": {
      "text/plain": [
       "(73, 88)"
      ]
     },
     "execution_count": 11,
     "metadata": {},
     "output_type": "execute_result"
    }
   ],
   "source": [
    "score['Martin'],score['David']"
   ]
  },
  {
   "cell_type": "code",
   "execution_count": 12,
   "id": "b1ec2ed8",
   "metadata": {},
   "outputs": [],
   "source": [
    "# Example 2\n",
    "states = ['Maharashtra','Kerala','UP','Telangana','Karnataka']\n",
    "capitals = ['Mumbai','Trivandrum','Lucknow','Hyderabad','Bangalore']"
   ]
  },
  {
   "cell_type": "code",
   "execution_count": 13,
   "id": "a8788e99",
   "metadata": {},
   "outputs": [],
   "source": [
    "India = dict(zip(states,capitals))"
   ]
  },
  {
   "cell_type": "code",
   "execution_count": 14,
   "id": "97b3362c",
   "metadata": {},
   "outputs": [
    {
     "data": {
      "text/plain": [
       "{'Maharashtra': 'Mumbai',\n",
       " 'Kerala': 'Trivandrum',\n",
       " 'UP': 'Lucknow',\n",
       " 'Telangana': 'Hyderabad',\n",
       " 'Karnataka': 'Bangalore'}"
      ]
     },
     "execution_count": 14,
     "metadata": {},
     "output_type": "execute_result"
    }
   ],
   "source": [
    "India"
   ]
  },
  {
   "cell_type": "code",
   "execution_count": 15,
   "id": "789fb300",
   "metadata": {},
   "outputs": [
    {
     "data": {
      "text/plain": [
       "'Mumbai'"
      ]
     },
     "execution_count": 15,
     "metadata": {},
     "output_type": "execute_result"
    }
   ],
   "source": [
    "India['Maharashtra']"
   ]
  },
  {
   "cell_type": "code",
   "execution_count": 16,
   "id": "ad3b886a",
   "metadata": {},
   "outputs": [
    {
     "data": {
      "text/plain": [
       "'Lucknow'"
      ]
     },
     "execution_count": 16,
     "metadata": {},
     "output_type": "execute_result"
    }
   ],
   "source": [
    "India.get('UP')"
   ]
  },
  {
   "cell_type": "code",
   "execution_count": 17,
   "id": "fb4a56e2",
   "metadata": {},
   "outputs": [
    {
     "data": {
      "text/plain": [
       "'Trivandrum'"
      ]
     },
     "execution_count": 17,
     "metadata": {},
     "output_type": "execute_result"
    }
   ],
   "source": [
    "India.get('Kerala')"
   ]
  },
  {
   "cell_type": "markdown",
   "id": "d3a95832",
   "metadata": {},
   "source": [
    "- If key is not in dictionary, then it shows Key Error\n",
    "- To handle with key error, use if statements"
   ]
  },
  {
   "cell_type": "code",
   "execution_count": 18,
   "id": "c166a2a8",
   "metadata": {},
   "outputs": [
    {
     "name": "stdout",
     "output_type": "stream",
     "text": [
      "Not Found in Dictionary\n"
     ]
    }
   ],
   "source": [
    "if India.get('Delhi') == None:\n",
    "    print('Not Found in Dictionary')"
   ]
  },
  {
   "cell_type": "code",
   "execution_count": 19,
   "id": "2576abed",
   "metadata": {},
   "outputs": [
    {
     "data": {
      "text/plain": [
       "('Not Found in Dictionary', 'Hyderabad')"
      ]
     },
     "execution_count": 19,
     "metadata": {},
     "output_type": "execute_result"
    }
   ],
   "source": [
    "India.get('Delhi','Not Found in Dictionary'), India.get('Telangana','Not Found in Dictionary')"
   ]
  },
  {
   "cell_type": "markdown",
   "id": "d544f2f4",
   "metadata": {},
   "source": [
    "- Insert item in list"
   ]
  },
  {
   "cell_type": "code",
   "execution_count": 20,
   "id": "3a5e57e2",
   "metadata": {},
   "outputs": [],
   "source": [
    "India['TN'] = 'Chennai'"
   ]
  },
  {
   "cell_type": "code",
   "execution_count": 21,
   "id": "c828dd14",
   "metadata": {},
   "outputs": [
    {
     "data": {
      "text/plain": [
       "{'Maharashtra': 'Mumbai',\n",
       " 'Kerala': 'Trivandrum',\n",
       " 'UP': 'Lucknow',\n",
       " 'Telangana': 'Hyderabad',\n",
       " 'Karnataka': 'Bangalore',\n",
       " 'TN': 'Chennai'}"
      ]
     },
     "execution_count": 21,
     "metadata": {},
     "output_type": "execute_result"
    }
   ],
   "source": [
    "India"
   ]
  },
  {
   "cell_type": "markdown",
   "id": "5db3fba8",
   "metadata": {},
   "source": [
    "- Remove items"
   ]
  },
  {
   "cell_type": "code",
   "execution_count": 22,
   "id": "07e7000d",
   "metadata": {},
   "outputs": [
    {
     "data": {
      "text/plain": [
       "('TN', 'Chennai')"
      ]
     },
     "execution_count": 22,
     "metadata": {},
     "output_type": "execute_result"
    }
   ],
   "source": [
    "# remove last item\n",
    "India.popitem()"
   ]
  },
  {
   "cell_type": "code",
   "execution_count": 23,
   "id": "2cfab397",
   "metadata": {},
   "outputs": [
    {
     "data": {
      "text/plain": [
       "('Karnataka', 'Bangalore')"
      ]
     },
     "execution_count": 23,
     "metadata": {},
     "output_type": "execute_result"
    }
   ],
   "source": [
    "India.popitem()"
   ]
  },
  {
   "cell_type": "code",
   "execution_count": 24,
   "id": "399553e0",
   "metadata": {},
   "outputs": [
    {
     "data": {
      "text/plain": [
       "'Lucknow'"
      ]
     },
     "execution_count": 24,
     "metadata": {},
     "output_type": "execute_result"
    }
   ],
   "source": [
    "# Remove using Key\n",
    "India.pop('UP')"
   ]
  },
  {
   "cell_type": "code",
   "execution_count": 25,
   "id": "ed73d9dc",
   "metadata": {},
   "outputs": [
    {
     "data": {
      "text/plain": [
       "{'Maharashtra': 'Mumbai', 'Kerala': 'Trivandrum', 'Telangana': 'Hyderabad'}"
      ]
     },
     "execution_count": 25,
     "metadata": {},
     "output_type": "execute_result"
    }
   ],
   "source": [
    "India"
   ]
  },
  {
   "cell_type": "code",
   "execution_count": 26,
   "id": "a3f79eb0",
   "metadata": {},
   "outputs": [],
   "source": [
    "# Remove all items\n",
    "India.clear()"
   ]
  },
  {
   "cell_type": "code",
   "execution_count": 27,
   "id": "34481a0d",
   "metadata": {},
   "outputs": [
    {
     "data": {
      "text/plain": [
       "{}"
      ]
     },
     "execution_count": 27,
     "metadata": {},
     "output_type": "execute_result"
    }
   ],
   "source": [
    "India"
   ]
  },
  {
   "cell_type": "code",
   "execution_count": 28,
   "id": "02e7301e",
   "metadata": {},
   "outputs": [],
   "source": [
    "# Example 3\n",
    "keys = 'Numbers'\n",
    "values = ('One','Two','Three','Four','Five','Six','Seven')"
   ]
  },
  {
   "cell_type": "code",
   "execution_count": 29,
   "id": "dd6117a1",
   "metadata": {},
   "outputs": [
    {
     "data": {
      "text/plain": [
       "{'N': 'One',\n",
       " 'u': 'Two',\n",
       " 'm': 'Three',\n",
       " 'b': 'Four',\n",
       " 'e': 'Five',\n",
       " 'r': 'Six',\n",
       " 's': 'Seven'}"
      ]
     },
     "execution_count": 29,
     "metadata": {},
     "output_type": "execute_result"
    }
   ],
   "source": [
    "d1 = dict(zip(keys,values))\n",
    "d1"
   ]
  },
  {
   "cell_type": "code",
   "execution_count": 30,
   "id": "d6366356",
   "metadata": {},
   "outputs": [],
   "source": [
    "# change value of key\n",
    "d1['u'] = 2"
   ]
  },
  {
   "cell_type": "code",
   "execution_count": 31,
   "id": "aecc67f1",
   "metadata": {},
   "outputs": [],
   "source": [
    "d1['e'] = 5"
   ]
  },
  {
   "cell_type": "code",
   "execution_count": 32,
   "id": "737405bd",
   "metadata": {},
   "outputs": [
    {
     "data": {
      "text/plain": [
       "{'N': 'One',\n",
       " 'u': 2,\n",
       " 'm': 'Three',\n",
       " 'b': 'Four',\n",
       " 'e': 5,\n",
       " 'r': 'Six',\n",
       " 's': 'Seven'}"
      ]
     },
     "execution_count": 32,
     "metadata": {},
     "output_type": "execute_result"
    }
   ],
   "source": [
    "d1"
   ]
  },
  {
   "cell_type": "markdown",
   "id": "7a427b8d",
   "metadata": {},
   "source": [
    "### Common Methods"
   ]
  },
  {
   "cell_type": "markdown",
   "id": "ad419a9b",
   "metadata": {},
   "source": [
    "#### a. len"
   ]
  },
  {
   "cell_type": "code",
   "execution_count": 33,
   "id": "45385452",
   "metadata": {},
   "outputs": [
    {
     "data": {
      "text/plain": [
       "{'N': 'One',\n",
       " 'u': 2,\n",
       " 'm': 'Three',\n",
       " 'b': 'Four',\n",
       " 'e': 5,\n",
       " 'r': 'Six',\n",
       " 's': 'Seven'}"
      ]
     },
     "execution_count": 33,
     "metadata": {},
     "output_type": "execute_result"
    }
   ],
   "source": [
    "## Dictionary\n",
    "d1"
   ]
  },
  {
   "cell_type": "code",
   "execution_count": 34,
   "id": "c45583f3",
   "metadata": {},
   "outputs": [
    {
     "data": {
      "text/plain": [
       "7"
      ]
     },
     "execution_count": 34,
     "metadata": {},
     "output_type": "execute_result"
    }
   ],
   "source": [
    "len(d1)"
   ]
  },
  {
   "cell_type": "code",
   "execution_count": 35,
   "id": "760141dd",
   "metadata": {},
   "outputs": [
    {
     "data": {
      "text/plain": [
       "['Maharashtra', 'Kerala', 'UP', 'Telangana', 'Karnataka']"
      ]
     },
     "execution_count": 35,
     "metadata": {},
     "output_type": "execute_result"
    }
   ],
   "source": [
    "## List\n",
    "states"
   ]
  },
  {
   "cell_type": "code",
   "execution_count": 36,
   "id": "73780eb2",
   "metadata": {},
   "outputs": [
    {
     "data": {
      "text/plain": [
       "5"
      ]
     },
     "execution_count": 36,
     "metadata": {},
     "output_type": "execute_result"
    }
   ],
   "source": [
    "len(states)"
   ]
  },
  {
   "cell_type": "code",
   "execution_count": 73,
   "id": "24af14f3",
   "metadata": {},
   "outputs": [
    {
     "data": {
      "text/plain": [
       "('One', 'Two', 'Three', 'Four', 'Five', 'Six', 'Seven')"
      ]
     },
     "execution_count": 73,
     "metadata": {},
     "output_type": "execute_result"
    }
   ],
   "source": [
    "## Tuple\n",
    "values"
   ]
  },
  {
   "cell_type": "code",
   "execution_count": 74,
   "id": "9e0647d3",
   "metadata": {},
   "outputs": [
    {
     "data": {
      "text/plain": [
       "7"
      ]
     },
     "execution_count": 74,
     "metadata": {},
     "output_type": "execute_result"
    }
   ],
   "source": [
    "len(values)"
   ]
  },
  {
   "cell_type": "markdown",
   "id": "82c3340f",
   "metadata": {},
   "source": [
    "#### b. Membership Operator"
   ]
  },
  {
   "cell_type": "code",
   "execution_count": 39,
   "id": "6168f3a6",
   "metadata": {},
   "outputs": [
    {
     "data": {
      "text/plain": [
       "(True, False)"
      ]
     },
     "execution_count": 39,
     "metadata": {},
     "output_type": "execute_result"
    }
   ],
   "source": [
    "'One' in values , 'Eight' in values"
   ]
  },
  {
   "cell_type": "code",
   "execution_count": 41,
   "id": "4a2f7f34",
   "metadata": {},
   "outputs": [
    {
     "data": {
      "text/plain": [
       "(False, True)"
      ]
     },
     "execution_count": 41,
     "metadata": {},
     "output_type": "execute_result"
    }
   ],
   "source": [
    "'One' not in values , \"Eight\" not in values"
   ]
  },
  {
   "cell_type": "code",
   "execution_count": 42,
   "id": "5302d507",
   "metadata": {},
   "outputs": [
    {
     "data": {
      "text/plain": [
       "(False, True)"
      ]
     },
     "execution_count": 42,
     "metadata": {},
     "output_type": "execute_result"
    }
   ],
   "source": [
    "'Delhi' in states , 'Delhi' not in states"
   ]
  },
  {
   "cell_type": "code",
   "execution_count": 43,
   "id": "2bcba83a",
   "metadata": {},
   "outputs": [
    {
     "data": {
      "text/plain": [
       "(True, False)"
      ]
     },
     "execution_count": 43,
     "metadata": {},
     "output_type": "execute_result"
    }
   ],
   "source": [
    "'Maharashtra' in states,  'Gujrat' in states"
   ]
  },
  {
   "cell_type": "markdown",
   "id": "dd126ff1",
   "metadata": {},
   "source": [
    "- Copy a dictionary"
   ]
  },
  {
   "cell_type": "code",
   "execution_count": 73,
   "id": "63f1f2f0",
   "metadata": {},
   "outputs": [
    {
     "data": {
      "text/plain": [
       "{10: 'Ten', 20: 'Twenty', 30: 'Thirty'}"
      ]
     },
     "execution_count": 73,
     "metadata": {},
     "output_type": "execute_result"
    }
   ],
   "source": [
    "d1 = {10:'Ten', 20:'Twenty',30:'Thirty'}\n",
    "d1"
   ]
  },
  {
   "cell_type": "code",
   "execution_count": 74,
   "id": "a71ea595",
   "metadata": {},
   "outputs": [
    {
     "data": {
      "text/plain": [
       "{10: 'Ten', 20: 'Twenty', 30: 'Thirty'}"
      ]
     },
     "execution_count": 74,
     "metadata": {},
     "output_type": "execute_result"
    }
   ],
   "source": [
    "d2 = d1\n",
    "d2"
   ]
  },
  {
   "cell_type": "code",
   "execution_count": 75,
   "id": "d2cb60a3",
   "metadata": {},
   "outputs": [],
   "source": [
    "# change value of a key\n",
    "d1[10] = 10.0"
   ]
  },
  {
   "cell_type": "code",
   "execution_count": 76,
   "id": "fea17654",
   "metadata": {},
   "outputs": [
    {
     "data": {
      "text/plain": [
       "{10: 10.0, 20: 'Twenty', 30: 'Thirty'}"
      ]
     },
     "execution_count": 76,
     "metadata": {},
     "output_type": "execute_result"
    }
   ],
   "source": [
    "d1"
   ]
  },
  {
   "cell_type": "code",
   "execution_count": 77,
   "id": "2e259286",
   "metadata": {},
   "outputs": [
    {
     "data": {
      "text/plain": [
       "{10: 10.0, 20: 'Twenty', 30: 'Thirty'}"
      ]
     },
     "execution_count": 77,
     "metadata": {},
     "output_type": "execute_result"
    }
   ],
   "source": [
    "# chenged value is auto updating in d2 dictionary\n",
    "d2"
   ]
  },
  {
   "cell_type": "code",
   "execution_count": 78,
   "id": "9d4590f0",
   "metadata": {},
   "outputs": [],
   "source": [
    "d1 = {10:'Ten', 20:'Twenty',30:'Thirty'}\n",
    "d1\n",
    "\n",
    "# To stop auto update, use copy()\n",
    "d3 = d1.copy()"
   ]
  },
  {
   "cell_type": "code",
   "execution_count": 79,
   "id": "921200d4",
   "metadata": {},
   "outputs": [
    {
     "data": {
      "text/plain": [
       "{10: 'Ten', 20: 'Twenty', 30: 'Thirty'}"
      ]
     },
     "execution_count": 79,
     "metadata": {},
     "output_type": "execute_result"
    }
   ],
   "source": [
    "d3"
   ]
  },
  {
   "cell_type": "code",
   "execution_count": 80,
   "id": "a0f8fcb3",
   "metadata": {},
   "outputs": [],
   "source": [
    "d1[20] = 20.0"
   ]
  },
  {
   "cell_type": "code",
   "execution_count": 81,
   "id": "584f8d86",
   "metadata": {},
   "outputs": [
    {
     "data": {
      "text/plain": [
       "{10: 'Ten', 20: 20.0, 30: 'Thirty'}"
      ]
     },
     "execution_count": 81,
     "metadata": {},
     "output_type": "execute_result"
    }
   ],
   "source": [
    "d1"
   ]
  },
  {
   "cell_type": "code",
   "execution_count": 67,
   "id": "bb90efe6",
   "metadata": {},
   "outputs": [
    {
     "data": {
      "text/plain": [
       "{10: 10.0, 20: 'Twenty', 30: 'Thirty'}"
      ]
     },
     "execution_count": 67,
     "metadata": {},
     "output_type": "execute_result"
    }
   ],
   "source": [
    "d3"
   ]
  },
  {
   "cell_type": "code",
   "execution_count": 90,
   "id": "c417e715",
   "metadata": {},
   "outputs": [],
   "source": [
    "## Identity Operator"
   ]
  },
  {
   "cell_type": "code",
   "execution_count": 82,
   "id": "545797c1",
   "metadata": {},
   "outputs": [
    {
     "data": {
      "text/plain": [
       "{10: 'Ten', 20: 'Twenty', 30: 'Thirty'}"
      ]
     },
     "execution_count": 82,
     "metadata": {},
     "output_type": "execute_result"
    }
   ],
   "source": [
    "d1 = {10:'Ten', 20:'Twenty',30:'Thirty'}\n",
    "d1"
   ]
  },
  {
   "cell_type": "code",
   "execution_count": 83,
   "id": "8a4154ac",
   "metadata": {},
   "outputs": [
    {
     "data": {
      "text/plain": [
       "{10: 'Ten', 20: 'Twenty', 30: 'Thirty'}"
      ]
     },
     "execution_count": 83,
     "metadata": {},
     "output_type": "execute_result"
    }
   ],
   "source": [
    "d2 = {10:'Ten', 20:'Twenty',30:'Thirty'}\n",
    "d2"
   ]
  },
  {
   "cell_type": "code",
   "execution_count": 84,
   "id": "dac7c86b",
   "metadata": {},
   "outputs": [
    {
     "data": {
      "text/plain": [
       "True"
      ]
     },
     "execution_count": 84,
     "metadata": {},
     "output_type": "execute_result"
    }
   ],
   "source": [
    "# Equality\n",
    "d1 == d2"
   ]
  },
  {
   "cell_type": "code",
   "execution_count": 85,
   "id": "aad9d6c5",
   "metadata": {},
   "outputs": [
    {
     "data": {
      "text/plain": [
       "False"
      ]
     },
     "execution_count": 85,
     "metadata": {},
     "output_type": "execute_result"
    }
   ],
   "source": [
    "# Identity\n",
    "d1 is d2"
   ]
  },
  {
   "cell_type": "code",
   "execution_count": 86,
   "id": "6284c084",
   "metadata": {},
   "outputs": [],
   "source": [
    "d3 = d1"
   ]
  },
  {
   "cell_type": "code",
   "execution_count": 87,
   "id": "8467372d",
   "metadata": {},
   "outputs": [
    {
     "data": {
      "text/plain": [
       "True"
      ]
     },
     "execution_count": 87,
     "metadata": {},
     "output_type": "execute_result"
    }
   ],
   "source": [
    "d3 == d1"
   ]
  },
  {
   "cell_type": "code",
   "execution_count": 88,
   "id": "7cfd53b6",
   "metadata": {},
   "outputs": [
    {
     "data": {
      "text/plain": [
       "True"
      ]
     },
     "execution_count": 88,
     "metadata": {},
     "output_type": "execute_result"
    }
   ],
   "source": [
    "d3 is d1"
   ]
  },
  {
   "cell_type": "code",
   "execution_count": 89,
   "id": "d5cfce8b",
   "metadata": {},
   "outputs": [
    {
     "data": {
      "text/plain": [
       "2071902613568"
      ]
     },
     "execution_count": 89,
     "metadata": {},
     "output_type": "execute_result"
    }
   ],
   "source": [
    "id(d3)"
   ]
  },
  {
   "cell_type": "code",
   "execution_count": 90,
   "id": "7e9d35c5",
   "metadata": {},
   "outputs": [
    {
     "data": {
      "text/plain": [
       "2071902613568"
      ]
     },
     "execution_count": 90,
     "metadata": {},
     "output_type": "execute_result"
    }
   ],
   "source": [
    "id(d1)"
   ]
  }
 ],
 "metadata": {
  "kernelspec": {
   "display_name": "Python 3 (ipykernel)",
   "language": "python",
   "name": "python3"
  },
  "language_info": {
   "codemirror_mode": {
    "name": "ipython",
    "version": 3
   },
   "file_extension": ".py",
   "mimetype": "text/x-python",
   "name": "python",
   "nbconvert_exporter": "python",
   "pygments_lexer": "ipython3",
   "version": "3.9.12"
  }
 },
 "nbformat": 4,
 "nbformat_minor": 5
}
